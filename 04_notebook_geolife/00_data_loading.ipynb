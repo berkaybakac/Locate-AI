{
 "cells": [
  {
   "cell_type": "code",
   "execution_count": 34,
   "id": "2ce507c6",
   "metadata": {},
   "outputs": [
    {
     "name": "stdout",
     "output_type": "stream",
     "text": [
      "✓ Veri dizini bulundu: /Users/berkaybakac/Projects/geosentinel/data/raw/geolife/Data\n",
      "✓ Kullanıcı klasörü sayısı: 182 (≈181 beklenir)\n",
      "✓ Toplam .plt dosyası   : 18670 (≈18k beklenir)\n",
      "✓ Örnek dosya: /Users/berkaybakac/Projects/geosentinel/data/raw/geolife/Data/135/Trajectory/20090103012134.plt\n"
     ]
    }
   ],
   "source": [
    "# === Hücre 1: Kütüphane Yükleme ve Yol Kontrolü ===\n",
    "\n",
    "from pathlib import Path\n",
    "import pandas as pd\n",
    "from tqdm.auto import tqdm\n",
    "\n",
    "# Proje kökünü tanımla (senin repo dizinin)\n",
    "PROJECT_ROOT = Path(\"/Users/berkaybakac/Projects/geosentinel\")\n",
    "\n",
    "# Ham veri yolu\n",
    "RAW_DATA_PATH = PROJECT_ROOT / \"data\" / \"raw\"\n",
    "\n",
    "# Geolife dataset kökü\n",
    "GEOLIFE_PATH = RAW_DATA_PATH / \"geolife\"\n",
    "DATA_DIR = GEOLIFE_PATH / \"Data\"\n",
    "\n",
    "# Yol kontrolü\n",
    "if not DATA_DIR.exists():\n",
    "    raise FileNotFoundError(f\"Veri dizini bulunamadı: {DATA_DIR}\")\n",
    "else:\n",
    "    print(f\"✓ Veri dizini bulundu: {DATA_DIR}\")\n",
    "\n",
    "# Küçük sağlık kontrolü (opsiyonel ama çok faydalı)\n",
    "user_folders = [d for d in DATA_DIR.iterdir() if d.is_dir()]\n",
    "plt_count = sum(len(list((u / \"Trajectory\").glob(\"*.plt\"))) for u in user_folders)\n",
    "print(f\"✓ Kullanıcı klasörü sayısı: {len(user_folders)} (≈181 beklenir)\")\n",
    "print(f\"✓ Toplam .plt dosyası   : {plt_count} (≈18k beklenir)\")\n",
    "\n",
    "# Örnek dosya göstermek\n",
    "if user_folders:\n",
    "    sample_user = user_folders[0]\n",
    "    sample_file = next((sample_user / \"Trajectory\").glob(\"*.plt\"))\n",
    "    print(f\"✓ Örnek dosya: {sample_file}\")\n"
   ]
  },
  {
   "cell_type": "code",
   "execution_count": 35,
   "id": "7ee9d899",
   "metadata": {},
   "outputs": [],
   "source": [
    "# === Hücre 2: Fonksiyon Tanımları ===\n",
    "\n",
    "def read_plt_file(fp: Path) -> pd.DataFrame:\n",
    "    \"\"\"Tek .plt dosyasını oku → DataFrame.\"\"\"\n",
    "    df = pd.read_csv(\n",
    "        fp, skiprows=6, header=None,\n",
    "        names=[\"lat\",\"lon\",\"ignore\",\"alt_ft\",\"days\",\"date\",\"time\"],\n",
    "        encoding=\"utf-8\", on_bad_lines=\"skip\"\n",
    "    )\n",
    "    if df.empty:\n",
    "        return df\n",
    "\n",
    "    # Zaman\n",
    "    ts = pd.to_datetime(df[\"date\"] + \" \" + df[\"time\"], errors=\"coerce\")\n",
    "    df = df.loc[ts.notna()].copy()\n",
    "    df[\"timestamp\"] = ts[ts.notna()]\n",
    "\n",
    "    # Minimal kolon seti\n",
    "    out = pd.DataFrame({\n",
    "        \"user_id\":  fp.parent.parent.name,  # Data/<user>/Trajectory/<file>\n",
    "        \"traj_id\":  fp.stem,                # dosya adı\n",
    "        \"timestamp\": df[\"timestamp\"],\n",
    "        \"lat\":      df[\"lat\"].astype(\"float32\"),\n",
    "        \"lon\":      df[\"lon\"].astype(\"float32\"),\n",
    "        \"alt_ft\":   df[\"alt_ft\"].astype(\"float32\"),\n",
    "    })\n",
    "    return out\n",
    "\n",
    "def load_all_geolife_data(data_dir: Path,\n",
    "                          limit_users: int | None = None,\n",
    "                          limit_files: int | None = None) -> pd.DataFrame:\n",
    "    \"\"\"Tüm kullanıcıların .plt dosyalarını oku → birleşik DataFrame.\"\"\"\n",
    "    users = [d for d in sorted(data_dir.iterdir()) if d.is_dir()]\n",
    "\n",
    "    if limit_users is not None:\n",
    "        users = users[:limit_users]\n",
    "\n",
    "    chunks: list[pd.DataFrame] = []\n",
    "\n",
    "    for u in tqdm(users, desc=\"Kullanıcılar\"):\n",
    "        traj_dir = u / \"Trajectory\"\n",
    "        if not traj_dir.exists():\n",
    "            continue\n",
    "\n",
    "        files = sorted(traj_dir.glob(\"*.plt\"))\n",
    "\n",
    "        if limit_files is not None:\n",
    "            files = files[:limit_files]\n",
    "\n",
    "        for f in files:\n",
    "            df = read_plt_file(f)\n",
    "            if not df.empty:\n",
    "                chunks.append(df)\n",
    "\n",
    "    if not chunks:\n",
    "        return pd.DataFrame()\n",
    "\n",
    "    return pd.concat(chunks, ignore_index=True)\n"
   ]
  },
  {
   "cell_type": "code",
   "execution_count": 36,
   "id": "39c5f432",
   "metadata": {},
   "outputs": [
    {
     "name": "stderr",
     "output_type": "stream",
     "text": [
      "Kullanıcılar: 100%|██████████| 2/2 [00:00<00:00, 47.48it/s]"
     ]
    },
    {
     "name": "stdout",
     "output_type": "stream",
     "text": [
      "Satır: 12061\n"
     ]
    },
    {
     "name": "stderr",
     "output_type": "stream",
     "text": [
      "\n"
     ]
    },
    {
     "data": {
      "application/vnd.microsoft.datawrangler.viewer.v0+json": {
       "columns": [
        {
         "name": "index",
         "rawType": "int64",
         "type": "integer"
        },
        {
         "name": "user_id",
         "rawType": "object",
         "type": "string"
        },
        {
         "name": "traj_id",
         "rawType": "object",
         "type": "string"
        },
        {
         "name": "timestamp",
         "rawType": "datetime64[ns]",
         "type": "datetime"
        },
        {
         "name": "lat",
         "rawType": "float32",
         "type": "float"
        },
        {
         "name": "lon",
         "rawType": "float32",
         "type": "float"
        },
        {
         "name": "alt_ft",
         "rawType": "float32",
         "type": "float"
        }
       ],
       "ref": "a3e525e2-c016-4523-a61e-62cc1b6dfb19",
       "rows": [
        [
         "0",
         "000",
         "20081023025304",
         "2008-10-23 02:53:04",
         "39.984703",
         "116.31842",
         "492.0"
        ],
        [
         "1",
         "000",
         "20081023025304",
         "2008-10-23 02:53:10",
         "39.984684",
         "116.31845",
         "492.0"
        ],
        [
         "2",
         "000",
         "20081023025304",
         "2008-10-23 02:53:15",
         "39.984688",
         "116.31842",
         "492.0"
        ],
        [
         "3",
         "000",
         "20081023025304",
         "2008-10-23 02:53:20",
         "39.984688",
         "116.31838",
         "492.0"
        ],
        [
         "4",
         "000",
         "20081023025304",
         "2008-10-23 02:53:25",
         "39.984653",
         "116.31826",
         "492.0"
        ]
       ],
       "shape": {
        "columns": 6,
        "rows": 5
       }
      },
      "text/html": [
       "<div>\n",
       "<style scoped>\n",
       "    .dataframe tbody tr th:only-of-type {\n",
       "        vertical-align: middle;\n",
       "    }\n",
       "\n",
       "    .dataframe tbody tr th {\n",
       "        vertical-align: top;\n",
       "    }\n",
       "\n",
       "    .dataframe thead th {\n",
       "        text-align: right;\n",
       "    }\n",
       "</style>\n",
       "<table border=\"1\" class=\"dataframe\">\n",
       "  <thead>\n",
       "    <tr style=\"text-align: right;\">\n",
       "      <th></th>\n",
       "      <th>user_id</th>\n",
       "      <th>traj_id</th>\n",
       "      <th>timestamp</th>\n",
       "      <th>lat</th>\n",
       "      <th>lon</th>\n",
       "      <th>alt_ft</th>\n",
       "    </tr>\n",
       "  </thead>\n",
       "  <tbody>\n",
       "    <tr>\n",
       "      <th>0</th>\n",
       "      <td>000</td>\n",
       "      <td>20081023025304</td>\n",
       "      <td>2008-10-23 02:53:04</td>\n",
       "      <td>39.984703</td>\n",
       "      <td>116.318420</td>\n",
       "      <td>492.0</td>\n",
       "    </tr>\n",
       "    <tr>\n",
       "      <th>1</th>\n",
       "      <td>000</td>\n",
       "      <td>20081023025304</td>\n",
       "      <td>2008-10-23 02:53:10</td>\n",
       "      <td>39.984684</td>\n",
       "      <td>116.318451</td>\n",
       "      <td>492.0</td>\n",
       "    </tr>\n",
       "    <tr>\n",
       "      <th>2</th>\n",
       "      <td>000</td>\n",
       "      <td>20081023025304</td>\n",
       "      <td>2008-10-23 02:53:15</td>\n",
       "      <td>39.984688</td>\n",
       "      <td>116.318420</td>\n",
       "      <td>492.0</td>\n",
       "    </tr>\n",
       "    <tr>\n",
       "      <th>3</th>\n",
       "      <td>000</td>\n",
       "      <td>20081023025304</td>\n",
       "      <td>2008-10-23 02:53:20</td>\n",
       "      <td>39.984688</td>\n",
       "      <td>116.318382</td>\n",
       "      <td>492.0</td>\n",
       "    </tr>\n",
       "    <tr>\n",
       "      <th>4</th>\n",
       "      <td>000</td>\n",
       "      <td>20081023025304</td>\n",
       "      <td>2008-10-23 02:53:25</td>\n",
       "      <td>39.984653</td>\n",
       "      <td>116.318260</td>\n",
       "      <td>492.0</td>\n",
       "    </tr>\n",
       "  </tbody>\n",
       "</table>\n",
       "</div>"
      ],
      "text/plain": [
       "  user_id         traj_id           timestamp        lat         lon  alt_ft\n",
       "0     000  20081023025304 2008-10-23 02:53:04  39.984703  116.318420   492.0\n",
       "1     000  20081023025304 2008-10-23 02:53:10  39.984684  116.318451   492.0\n",
       "2     000  20081023025304 2008-10-23 02:53:15  39.984688  116.318420   492.0\n",
       "3     000  20081023025304 2008-10-23 02:53:20  39.984688  116.318382   492.0\n",
       "4     000  20081023025304 2008-10-23 02:53:25  39.984653  116.318260   492.0"
      ]
     },
     "execution_count": 36,
     "metadata": {},
     "output_type": "execute_result"
    }
   ],
   "source": [
    "# === Hücre 3: Fonksiyon Testi (küçük örnek) ===\n",
    "test_df = load_all_geolife_data(DATA_DIR, limit_users=2, limit_files=3)\n",
    "print(\"Satır:\", len(test_df))\n",
    "test_df.head()"
   ]
  }
 ],
 "metadata": {
  "kernelspec": {
   "display_name": "geosentinel",
   "language": "python",
   "name": "python3"
  },
  "language_info": {
   "codemirror_mode": {
    "name": "ipython",
    "version": 3
   },
   "file_extension": ".py",
   "mimetype": "text/x-python",
   "name": "python",
   "nbconvert_exporter": "python",
   "pygments_lexer": "ipython3",
   "version": "3.11.13"
  }
 },
 "nbformat": 4,
 "nbformat_minor": 5
}
